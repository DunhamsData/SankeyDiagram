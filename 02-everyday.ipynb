{
 "cells": [
  {
   "cell_type": "markdown",
   "metadata": {},
   "source": [
    "# Dunham's Data"
   ]
  },
  {
   "cell_type": "markdown",
   "metadata": {},
   "source": [
    "## Setting up"
   ]
  },
  {
   "cell_type": "code",
   "execution_count": 1,
   "metadata": {},
   "outputs": [],
   "source": [
    "from geopy.distance import geodesic\n",
    "# import networkx as nx\n",
    "import pandas as pd\n",
    "# import seaborn as sns"
   ]
  },
  {
   "cell_type": "code",
   "execution_count": 2,
   "metadata": {},
   "outputs": [],
   "source": [
    "# pd.set_option('display.max_rows', 999)"
   ]
  },
  {
   "cell_type": "code",
   "execution_count": 3,
   "metadata": {},
   "outputs": [],
   "source": [
    "# sns.set()"
   ]
  },
  {
   "cell_type": "code",
   "execution_count": 4,
   "metadata": {},
   "outputs": [],
   "source": [
    "# %matplotlib inline"
   ]
  },
  {
   "cell_type": "markdown",
   "metadata": {},
   "source": [
    "## Loading data"
   ]
  },
  {
   "cell_type": "code",
   "execution_count": 5,
   "metadata": {},
   "outputs": [],
   "source": [
    "col_used = [\n",
    "    'DATE', 'CITY1', 'COUNTRY1', 'CITY2', 'COUNTRY2', 'WORKING', 'HOTEL_ADDRESS',\n",
    "    'VENUE1', 'VENUE_TYPE1', 'VENUE2', 'VENUE_TYPE2', 'NOTES', 'SOURCE',\n",
    "]\n",
    "dunham_df = pd.read_excel('data/src/DunhamsData_EverydayItinerary_DatasetSample.xlsx',\n",
    "                          usecols='A:G,I:N', names=col_used)\n",
    "dunham_df.fillna('', inplace=True)"
   ]
  },
  {
   "cell_type": "code",
   "execution_count": 6,
   "metadata": {},
   "outputs": [
    {
     "data": {
      "text/plain": [
       "(10, 13)"
      ]
     },
     "execution_count": 6,
     "metadata": {},
     "output_type": "execute_result"
    }
   ],
   "source": [
    "dunham_df.shape"
   ]
  },
  {
   "cell_type": "code",
   "execution_count": 7,
   "metadata": {},
   "outputs": [
    {
     "data": {
      "text/html": [
       "<div>\n",
       "<style scoped>\n",
       "    .dataframe tbody tr th:only-of-type {\n",
       "        vertical-align: middle;\n",
       "    }\n",
       "\n",
       "    .dataframe tbody tr th {\n",
       "        vertical-align: top;\n",
       "    }\n",
       "\n",
       "    .dataframe thead th {\n",
       "        text-align: right;\n",
       "    }\n",
       "</style>\n",
       "<table border=\"1\" class=\"dataframe\">\n",
       "  <thead>\n",
       "    <tr style=\"text-align: right;\">\n",
       "      <th></th>\n",
       "      <th>DATE</th>\n",
       "      <th>CITY1</th>\n",
       "      <th>COUNTRY1</th>\n",
       "      <th>CITY2</th>\n",
       "      <th>COUNTRY2</th>\n",
       "      <th>WORKING</th>\n",
       "      <th>HOTEL_ADDRESS</th>\n",
       "      <th>VENUE1</th>\n",
       "      <th>VENUE_TYPE1</th>\n",
       "      <th>VENUE2</th>\n",
       "      <th>VENUE_TYPE2</th>\n",
       "      <th>NOTES</th>\n",
       "      <th>SOURCE</th>\n",
       "    </tr>\n",
       "  </thead>\n",
       "  <tbody>\n",
       "    <tr>\n",
       "      <th>0</th>\n",
       "      <td>1947-03-14</td>\n",
       "      <td>New York City</td>\n",
       "      <td>USA</td>\n",
       "      <td></td>\n",
       "      <td></td>\n",
       "      <td>y</td>\n",
       "      <td></td>\n",
       "      <td>Hotel Delmonico</td>\n",
       "      <td>n</td>\n",
       "      <td>Roxy</td>\n",
       "      <td>n</td>\n",
       "      <td>Diary--\"All Star Show for the Wounded\" between...</td>\n",
       "      <td>Display Ad New York Times (1923-Current file);...</td>\n",
       "    </tr>\n",
       "    <tr>\n",
       "      <th>1</th>\n",
       "      <td>1947-04-07</td>\n",
       "      <td>New York City</td>\n",
       "      <td>USA</td>\n",
       "      <td></td>\n",
       "      <td></td>\n",
       "      <td>y</td>\n",
       "      <td></td>\n",
       "      <td></td>\n",
       "      <td></td>\n",
       "      <td></td>\n",
       "      <td></td>\n",
       "      <td>Diary--rehearsal</td>\n",
       "      <td>SIU Box 142 Folder 7</td>\n",
       "    </tr>\n",
       "    <tr>\n",
       "      <th>2</th>\n",
       "      <td>1947-06-28</td>\n",
       "      <td>Mexico City</td>\n",
       "      <td>Mexico</td>\n",
       "      <td></td>\n",
       "      <td></td>\n",
       "      <td>y</td>\n",
       "      <td>Arenal #7, San Angel, Mexico, D.F.</td>\n",
       "      <td></td>\n",
       "      <td></td>\n",
       "      <td></td>\n",
       "      <td></td>\n",
       "      <td></td>\n",
       "      <td></td>\n",
       "    </tr>\n",
       "    <tr>\n",
       "      <th>3</th>\n",
       "      <td>1947-07-01</td>\n",
       "      <td>Mexico City</td>\n",
       "      <td>Mexico</td>\n",
       "      <td></td>\n",
       "      <td></td>\n",
       "      <td>y</td>\n",
       "      <td>Arenal #7, San Angel, Mexico, D.F.</td>\n",
       "      <td></td>\n",
       "      <td></td>\n",
       "      <td></td>\n",
       "      <td></td>\n",
       "      <td>Rehearsing every day at Dunham's rented house;...</td>\n",
       "      <td>SIU Box 10 Folder 4</td>\n",
       "    </tr>\n",
       "    <tr>\n",
       "      <th>4</th>\n",
       "      <td>1947-07-06</td>\n",
       "      <td>Mexico City</td>\n",
       "      <td>Mexico</td>\n",
       "      <td></td>\n",
       "      <td></td>\n",
       "      <td>y</td>\n",
       "      <td>Arenal #7, San Angel, Mexico, D.F.</td>\n",
       "      <td></td>\n",
       "      <td></td>\n",
       "      <td></td>\n",
       "      <td></td>\n",
       "      <td></td>\n",
       "      <td></td>\n",
       "    </tr>\n",
       "  </tbody>\n",
       "</table>\n",
       "</div>"
      ],
      "text/plain": [
       "        DATE          CITY1 COUNTRY1 CITY2 COUNTRY2 WORKING  \\\n",
       "0 1947-03-14  New York City      USA                      y   \n",
       "1 1947-04-07  New York City      USA                      y   \n",
       "2 1947-06-28    Mexico City   Mexico                      y   \n",
       "3 1947-07-01    Mexico City   Mexico                      y   \n",
       "4 1947-07-06    Mexico City   Mexico                      y   \n",
       "\n",
       "                        HOTEL_ADDRESS           VENUE1 VENUE_TYPE1 VENUE2  \\\n",
       "0                                      Hotel Delmonico           n   Roxy   \n",
       "1                                                                           \n",
       "2  Arenal #7, San Angel, Mexico, D.F.                                       \n",
       "3  Arenal #7, San Angel, Mexico, D.F.                                       \n",
       "4  Arenal #7, San Angel, Mexico, D.F.                                       \n",
       "\n",
       "  VENUE_TYPE2                                              NOTES  \\\n",
       "0           n  Diary--\"All Star Show for the Wounded\" between...   \n",
       "1                                               Diary--rehearsal   \n",
       "2                                                                  \n",
       "3              Rehearsing every day at Dunham's rented house;...   \n",
       "4                                                                  \n",
       "\n",
       "                                              SOURCE  \n",
       "0  Display Ad New York Times (1923-Current file);...  \n",
       "1                               SIU Box 142 Folder 7  \n",
       "2                                                     \n",
       "3                                SIU Box 10 Folder 4  \n",
       "4                                                     "
      ]
     },
     "execution_count": 7,
     "metadata": {},
     "output_type": "execute_result"
    }
   ],
   "source": [
    "dunham_df.head()"
   ]
  },
  {
   "cell_type": "code",
   "execution_count": 8,
   "metadata": {},
   "outputs": [
    {
     "data": {
      "text/html": [
       "<div>\n",
       "<style scoped>\n",
       "    .dataframe tbody tr th:only-of-type {\n",
       "        vertical-align: middle;\n",
       "    }\n",
       "\n",
       "    .dataframe tbody tr th {\n",
       "        vertical-align: top;\n",
       "    }\n",
       "\n",
       "    .dataframe thead th {\n",
       "        text-align: right;\n",
       "    }\n",
       "</style>\n",
       "<table border=\"1\" class=\"dataframe\">\n",
       "  <thead>\n",
       "    <tr style=\"text-align: right;\">\n",
       "      <th></th>\n",
       "      <th>DATE</th>\n",
       "      <th>CITY1</th>\n",
       "      <th>COUNTRY1</th>\n",
       "      <th>CITY2</th>\n",
       "      <th>COUNTRY2</th>\n",
       "      <th>WORKING</th>\n",
       "      <th>HOTEL_ADDRESS</th>\n",
       "      <th>VENUE1</th>\n",
       "      <th>VENUE_TYPE1</th>\n",
       "      <th>VENUE2</th>\n",
       "      <th>VENUE_TYPE2</th>\n",
       "      <th>NOTES</th>\n",
       "      <th>SOURCE</th>\n",
       "    </tr>\n",
       "  </thead>\n",
       "  <tbody>\n",
       "    <tr>\n",
       "      <th>9</th>\n",
       "      <td>1948-01-04</td>\n",
       "      <td>San Francisco</td>\n",
       "      <td>USA</td>\n",
       "      <td></td>\n",
       "      <td></td>\n",
       "      <td>y</td>\n",
       "      <td></td>\n",
       "      <td>Geary Theater</td>\n",
       "      <td>c</td>\n",
       "      <td></td>\n",
       "      <td></td>\n",
       "      <td></td>\n",
       "      <td>Bal Negre program</td>\n",
       "    </tr>\n",
       "  </tbody>\n",
       "</table>\n",
       "</div>"
      ],
      "text/plain": [
       "        DATE          CITY1 COUNTRY1 CITY2 COUNTRY2 WORKING HOTEL_ADDRESS  \\\n",
       "9 1948-01-04  San Francisco      USA                      y                 \n",
       "\n",
       "          VENUE1 VENUE_TYPE1 VENUE2 VENUE_TYPE2 NOTES             SOURCE  \n",
       "9  Geary Theater           c                           Bal Negre program  "
      ]
     },
     "execution_count": 8,
     "metadata": {},
     "output_type": "execute_result"
    }
   ],
   "source": [
    "dunham_df.tail(1)"
   ]
  },
  {
   "cell_type": "markdown",
   "metadata": {},
   "source": [
    "## Pre-processing data"
   ]
  },
  {
   "cell_type": "code",
   "execution_count": 9,
   "metadata": {
    "scrolled": true
   },
   "outputs": [],
   "source": [
    "dunham_df.DATE = dunham_df.DATE.astype(str)\n",
    "for col in dunham_df.columns[1:]:\n",
    "    dunham_df[col] = dunham_df[col].apply(str.strip)"
   ]
  },
  {
   "cell_type": "code",
   "execution_count": 10,
   "metadata": {},
   "outputs": [],
   "source": [
    "def clean_city(x, y):\n",
    "    if x == 'Hamilton':\n",
    "        if y == 'Canada':\n",
    "            r = 'Hamilton (CA)'\n",
    "        else: # y == 'New Zealand'\n",
    "            r = 'Hamilton (NZ)'\n",
    "#     elif x == 'in transit':\n",
    "#         r = ''\n",
    "    else:\n",
    "        r = x\n",
    "    return r\n",
    "\n",
    "dunham_df.CITY1 = dunham_df.apply(lambda row: clean_city(row.CITY1, row.COUNTRY1), axis=1)\n",
    "dunham_df.CITY2 = dunham_df.apply(lambda row: clean_city(row.CITY2, row.COUNTRY2), axis=1)"
   ]
  },
  {
   "cell_type": "code",
   "execution_count": 11,
   "metadata": {},
   "outputs": [],
   "source": [
    "def clean_country(city, country):\n",
    "    x = country\n",
    "    y = city\n",
    "    if y == 'Gibraltar':\n",
    "        r = 'Gibraltar'\n",
    "    elif x == 'Newfoundland':\n",
    "        r = 'Canada'\n",
    "    else:\n",
    "        r = x\n",
    "    return r\n",
    "\n",
    "dunham_df.COUNTRY1 = dunham_df.apply(lambda row: clean_country(row.CITY1, row.COUNTRY1), axis=1)\n",
    "dunham_df.COUNTRY2 = dunham_df.apply(lambda row: clean_country(row.CITY2, row.COUNTRY2), axis=1)"
   ]
  },
  {
   "cell_type": "code",
   "execution_count": 12,
   "metadata": {},
   "outputs": [],
   "source": [
    "# def clean_working(x):\n",
    "#     if x.startswith('[[') and x.endswith(']]'):\n",
    "#         r = ''\n",
    "#     else:\n",
    "#         r = x\n",
    "#     return r\n",
    "\n",
    "# dunham_df.WORKING = dunham_df.WORKING.apply(clean_working)"
   ]
  },
  {
   "cell_type": "code",
   "execution_count": 13,
   "metadata": {},
   "outputs": [],
   "source": [
    "def clean_hotel_address(x):\n",
    "    r = x # do not clean for now\n",
    "    return r\n",
    "\n",
    "dunham_df.HOTEL_ADDRESS = dunham_df.HOTEL_ADDRESS.apply(clean_hotel_address)"
   ]
  },
  {
   "cell_type": "code",
   "execution_count": 14,
   "metadata": {},
   "outputs": [],
   "source": [
    "# def clean_performance_yn(x):\n",
    "#     if x == '?':\n",
    "#         r = ''\n",
    "#     elif x == 'N':\n",
    "#         r = 'n'\n",
    "#     else:\n",
    "#         r = x\n",
    "#     return r\n",
    "\n",
    "# dunham_df.PERFORMANCE_YN = dunham_df.PERFORMANCE_YN.apply(clean_performance_yn)"
   ]
  },
  {
   "cell_type": "code",
   "execution_count": 15,
   "metadata": {},
   "outputs": [],
   "source": [
    "# def clean_theater1(x):\n",
    "#     r = x # do not clean for now\n",
    "#     return r\n",
    "\n",
    "# dunham_df.THEATER1 = dunham_df.THEATER1.apply(clean_theater1)"
   ]
  },
  {
   "cell_type": "code",
   "execution_count": 16,
   "metadata": {},
   "outputs": [],
   "source": [
    "# def clean_theater2(x):\n",
    "#     r = x # do not clean for now\n",
    "#     return r\n",
    "\n",
    "# dunham_df.THEATER2 = dunham_df.THEATER2.apply(clean_theater2)"
   ]
  },
  {
   "cell_type": "code",
   "execution_count": 17,
   "metadata": {},
   "outputs": [],
   "source": [
    "# def clean_mode_transit(x):\n",
    "#     if x == '[[chartered bus Reno to Los Angeles?]]':\n",
    "#         r = 'bus'\n",
    "#     elif x == 'drive':\n",
    "#         r = 'car'\n",
    "#     elif x == 'drive?':\n",
    "#         r = 'car'\n",
    "#     elif x.startswith('plane'):\n",
    "#         r = 'plane'\n",
    "#     elif x == 'train; boat train':\n",
    "#         r = 'train, boat, train'\n",
    "#     elif x == 'train; plane; boat':\n",
    "#         r = 'train, plane, boat'\n",
    "#     else:\n",
    "#         r = x\n",
    "#     return r\n",
    "\n",
    "# dunham_df.MODE_TRANSIT = dunham_df.MODE_TRANSIT.apply(clean_mode_transit)"
   ]
  },
  {
   "cell_type": "code",
   "execution_count": 18,
   "metadata": {},
   "outputs": [],
   "source": [
    "# def clean_transit_cities(x):\n",
    "#     if x == 'Geneva; Rome':\n",
    "#         r = 'Geneva (Switzerland), Rome (Italy)'\n",
    "#     elif x == 'transit to Turin':\n",
    "#         r = ''\n",
    "#     elif x == 'transit through London':\n",
    "#         r = 'London (England)'\n",
    "#     elif x == 'transit: PanAm 201 flies NYC Laguardia - San Juan - Port of Spain - Belem':\n",
    "#         r = 'San Juan (Puerto Rico), Port of Spain (Trinidad and Tobago), Belem (Brazil)'\n",
    "#     elif x == 'Los Cerrillos airport':\n",
    "#         r = ''\n",
    "#     elif x == 'transit':\n",
    "#         r = ''\n",
    "#     elif x == 'destination':\n",
    "#         r = ''\n",
    "#     elif x == 'transit via Boston':\n",
    "#         r = 'Boston (USA)'\n",
    "#     elif x == 'in transit':\n",
    "#         r = ''\n",
    "#     elif x == 'last performance':\n",
    "#         r = ''\n",
    "#     elif x == 'London (Liverpool station), England; Harwich (Harwich Quay), England':\n",
    "#         r = 'Harwich (England)'\n",
    "#     elif x == 'New York':\n",
    "#         r = ''\n",
    "#     elif x == 'Chicago':\n",
    "#         r = 'Chicago (USA)'\n",
    "#     elif x == 'Gander, Newfoundland, Canada':\n",
    "#         r = 'Gander (Canada)'\n",
    "#     elif x == 'Zurich, Switzerland':\n",
    "#         r = 'Zurich (Switzerland)'\n",
    "#     elif x == 'Zurich':\n",
    "#         r = 'Zurich (Switzerland)'\n",
    "#     elif x == 'Rome, Italy; Geneva, Switzerland':\n",
    "#         r = 'Rome (Italy), Geneva (Switzerland)'\n",
    "#     elif x == 'Vevey, Switzerland':\n",
    "#         r = 'Vevey (Switzerland)'\n",
    "#     elif x == 'Amsterdam, Netherlands':\n",
    "#         r = 'Amsterdam (Netherlands)'\n",
    "#     elif x == 'Furet de P*?': # ???\n",
    "#         r = ''\n",
    "#     elif x == 'San Diego; Tijuana':\n",
    "#         r = 'San Diego (USA), Tijuana (Mexico)'\n",
    "#     elif x == 'Portworth':\n",
    "#         r = 'Fort Worth (USA)'\n",
    "#     elif x == 'Miami':\n",
    "#         r = 'Miami (USA)'\n",
    "#     elif x == 'Los Angeles':\n",
    "#         r = 'Los Angeles (USA)'\n",
    "#     elif x == \"El Paso, TX----I think probably this was to go to Mexico, and I don't think she ever went to Mexico\":\n",
    "#         r = 'El Paso (USA)'\n",
    "#     elif x == 'Honolulu':\n",
    "#         r = 'Honolulu (Hawaii)'\n",
    "#     elif x == 'Coolangatta':\n",
    "#         r = 'Coolangatta (Australia)'\n",
    "#     elif x == '[[Dunham Brisbane to Perth via Sydney and Melbourne--date open: https://osu.app.box.com/file/325139873147]]':\n",
    "#         r = ''\n",
    "#     elif x == 'Malacca':\n",
    "#         r = 'Malacca (Malaysia)'\n",
    "#     elif x == 'Amsterdam':\n",
    "#         r = 'Amsterdam (Netherlands)'\n",
    "#     elif x == 'Lyon; Bordeaux; Bayonne':\n",
    "#         r = 'Lyons (France), Bordeaux (France), Bayonne (France)'\n",
    "#     elif x == 'Irun, Spain':\n",
    "#         r = 'Irun (Spain)'\n",
    "#     elif x == 'Irun, Spain; Hendaye, France':\n",
    "#         r = 'Irun (Spain), Hendaye (France)'\n",
    "#     elif x == 'Marseilles':\n",
    "#         r = 'Marseille (France)'\n",
    "#     elif x == 'Piraeus, Greece':\n",
    "#         r = 'Piraeus (Greece)'\n",
    "#     elif x == 'Port Said, Egypt':\n",
    "#         r = 'Port Said (Egypt)'\n",
    "#     elif x == 'Munich':\n",
    "#         r = 'Munich (Germany)'\n",
    "#     elif x == 'Schwarzbach; Ravensberg':\n",
    "#         r = 'Schwarzbach (Germany), Ravensberg (Germany)'\n",
    "#     elif x == 'Colmar; Ligny en Barois; Rosay en Brie':\n",
    "#         r = 'Colmar (France), Ligny-en-Barrois (France), Rozay-en-Brie (France)'\n",
    "#     elif x == 'Verneson; Valence':\n",
    "#         r = 'Vernaison (France), Valence (France)'\n",
    "#     elif x == 'Alicante':\n",
    "#         r = 'Alicante (Spain)'\n",
    "#     elif x == 'Granada':\n",
    "#         r = 'Granada (Spain)'\n",
    "#     elif x == 'La Linea, Spain':\n",
    "#         r = 'La Linea (Spain)'\n",
    "#     else:\n",
    "#         r = x\n",
    "#     return r\n",
    "\n",
    "# dunham_df.TRANSIT_CITIES = dunham_df.TRANSIT_CITIES.apply(clean_transit_cities)"
   ]
  },
  {
   "cell_type": "code",
   "execution_count": 19,
   "metadata": {},
   "outputs": [],
   "source": [
    "def clean_notes(x):\n",
    "    r = x # do not clean for now\n",
    "    return r\n",
    "\n",
    "dunham_df.NOTES = dunham_df.NOTES.apply(clean_notes)"
   ]
  },
  {
   "cell_type": "code",
   "execution_count": 20,
   "metadata": {},
   "outputs": [],
   "source": [
    "def clean_source(x):\n",
    "    r = x # do not clean for now\n",
    "    return r\n",
    "\n",
    "dunham_df.SOURCE = dunham_df.SOURCE.apply(clean_source)"
   ]
  },
  {
   "cell_type": "code",
   "execution_count": 21,
   "metadata": {},
   "outputs": [],
   "source": [
    "dunham_df.fillna('', inplace=True)"
   ]
  },
  {
   "cell_type": "markdown",
   "metadata": {},
   "source": [
    "## Processing data"
   ]
  },
  {
   "cell_type": "code",
   "execution_count": 22,
   "metadata": {},
   "outputs": [],
   "source": [
    "geolocations = { # (lat, lon)\n",
    "    'Acapulco': (16.863611, -99.8825),\n",
    "    'Adelaide': (-34.928889, 138.601111),\n",
    "    'Algiers': (36.753889, 3.058889),\n",
    "    'Alicante': (38.345278, -0.483056),\n",
    "    'Altreu': (47.191818, 7.449104),\n",
    "    'Annecy': (45.916, 6.133),\n",
    "    'Amsterdam': (52.366667, 4.9),\n",
    "    'Antwerp': (51.217778, 4.400278),\n",
    "    'Arcachon': (44.65, -1.17),\n",
    "    'Arles': (43.6767, 4.6278),\n",
    "    'Athens': (37.983972, 23.727806),\n",
    "    'Auckland': (-36.840556, 174.74),\n",
    "    'Barcelona': (41.383333, 2.183333),\n",
    "    'Bari': (41.125278, 16.866667),\n",
    "    'Barranquilla': (10.963889, -74.796389),\n",
    "    'Basel': (47.566667, 7.6),\n",
    "    'Bayonne': (43.49, -1.48),\n",
    "    'Beirut': (33.886944, 35.513056),\n",
    "    'Belem': (-1.455833, -48.503889),\n",
    "    'Belfast': (54.598611, -5.9275),\n",
    "    'Belgrade': (44.816667, 20.466667),\n",
    "    'Bergamo': (45.695, 9.67),\n",
    "    'Bern': (46.95, 7.45),\n",
    "    'Beverly Hills': (34.073056, -118.399444),\n",
    "    'Biarritz': (43.48, -1.56),\n",
    "    'Biel/Bienne': (47.133333, 7.25),\n",
    "    'Biella': (45.566667, 8.066667),\n",
    "    'Birmingham': (52.483056, -1.893611),\n",
    "    'Bogota': (4.711111, -74.072222),\n",
    "    'Bologna': (44.5075, 11.351389),\n",
    "    'Bordeaux': (44.84, -0.58),\n",
    "    'Boston': (42.358056, -71.063611),\n",
    "    'Bournemouth': (50.72, -1.88),\n",
    "    'Brescia': (45.541667, 10.216667),\n",
    "    'Brisbane': (-27.467778, 153.028056),\n",
    "    'Bristol': (51.45, -2.583333),\n",
    "    'Brussels': (50.85, 4.35),\n",
    "    'Buenos Aires': (-34.603333, -58.381667),\n",
    "    'Buffalo': (42.904722, -78.849444),\n",
    "    'Cairnryan': (54.971, -5.018),\n",
    "    'Cairo': (30.044444, 31.235833),\n",
    "    'Cali': (3.420556, -76.522222),\n",
    "    'Cannes': (43.5513, 7.0128),\n",
    "    'Capri': (40.55, 14.233333),\n",
    "    'Caracas': (10.480556, -66.903611),\n",
    "    'Carbondale, IL': (37.726, -89.22),\n",
    "    'Cartagena': (10.4, -75.5),\n",
    "    'Casablanca': (33.533333, -7.583333),\n",
    "    'Catania': (37.5, 15.090278),\n",
    "    'Chicago': (41.9483, -87.6574),\n",
    "    'Christchurch': (-43.53, 172.620278),\n",
    "    'Cleveland': (41.482222, -81.669722),\n",
    "    'Coolangatta': (-28.166667, 153.533333),\n",
    "    'Colmar': (48.0817, 7.3556),\n",
    "    'Columbus, OH': (39.962222, -83.000556),\n",
    "    'Copenhagen': (55.676111, 12.568333),\n",
    "    'Crystal Bay, NV': (39.227778, -120.004444),\n",
    "    'Dax': (43.71, -1.05),\n",
    "    'Denver': (39.76185, -104.881105),\n",
    "    'Detroit': (42.331389, -83.045833),\n",
    "    'Dongducheon': (37.916667, 127.066667),\n",
    "    'Dublin': (53.349722, -6.260278),\n",
    "    'Dusseldorf': (51.233333, 6.783333),\n",
    "    'Edinburgh': (55.953, -3.189),\n",
    "    'El Paso': (31.759167, -106.488611),\n",
    "    'Esmeraldas': (0.95, -79.666667),\n",
    "    'Florence': (43.783333, 11.25),\n",
    "    'Fiesole': (43.807222, 11.291944),\n",
    "    'Foggia': (41.464167, 15.546111),\n",
    "    'Fort Worth': (32.75, -97.333333),\n",
    "    'Frankfurt': (50.116667, 8.683333),\n",
    "    'Frauenfeld': (47.55, 8.9),\n",
    "    'Gander': (48.956944, -54.608889),\n",
    "    'Geneva': (46.2, 6.15),\n",
    "    'Genoa': (44.411111, 8.932778),\n",
    "    'Gibraltar': (36.131667, -5.351667),\n",
    "    'Glasgow': (55.860916, -4.251433),\n",
    "    'Granada': (37.178056, -3.600833),\n",
    "    'Guadalajara': (20.666667, -103.35),\n",
    "    'Guanajuato': (21.017778, -101.256667),\n",
    "    'Hamburg': (53.565278, 10.001389),\n",
    "    'Hamilton (CA)': (43.256667, -79.869167),\n",
    "    'Hamilton (NZ)': (-37.783333, 175.283333),\n",
    "    'Hanover': (52.366667, 9.716667),\n",
    "    'Harwich': (51.94458, 1.289852),\n",
    "    'Havana': (23.133333, -82.383333),\n",
    "    'Heidelberg': (49.416667, 8.716667),\n",
    "    'Hendaye': (43.36, -1.77),\n",
    "    'Hollywood': (34.1, -118.333333),\n",
    "    'Hong Kong': (22.3, 114.2),\n",
    "    'Honolulu': (21.3, -157.816667),\n",
    "    'Indianapolis': (39.768611, -86.158056),\n",
    "    'Interlaken': (46.683333, 7.85),\n",
    "    'Irun': (43.337814, -1.788811),\n",
    "    'Ito': (34.965722, 139.101861),\n",
    "    'Joliet': (41.520556, -88.150556),\n",
    "    'Juan-les-Pins': (43.571111, 7.109444),\n",
    "    'Kiamesha Lake, NY': (41.683056, -74.660833),\n",
    "    'Kingston': (18, -76.783333),\n",
    "    'Knokke': (51.341389, 3.286944),\n",
    "    'Kuala Lumpur': (3.147778, 101.695278),\n",
    "    'La Baule-Escoublac': (47.2867, -2.3908),\n",
    "    'La Linea': (36.168056, -5.348611),\n",
    "    'La Tour-de-Peilz': (46.45, 6.866667),\n",
    "    'Lagos': (6.455027, 3.384082),\n",
    "    'Las Vegas': (36.175, -115.136389),\n",
    "    'Lausanne': (46.519833, 6.6335),\n",
    "    'Lecce': (40.35, 18.166667),\n",
    "    'Les Baux de Provence': (43.7439, 4.7953),\n",
    "    'Liege': (50.633333, 5.566667),\n",
    "    'Ligny-en-Barrois': (48.6897, 5.325),\n",
    "    'Lima': (-12.043333, -77.028333),\n",
    "    'Liverpool': (53.4, -2.983333),\n",
    "    'Livorno': (43.55, 10.316667),\n",
    "    'London': (51.507222, -0.1275),\n",
    "    'Los Angeles': (34.05, -118.25),\n",
    "    'Los Angeles area': (34.05, -118.25),\n",
    "    'Lugano': (46, 8.95),\n",
    "    'Lyons': (45.76, 4.84),\n",
    "    'Madrid': (40.383333, -3.716667),\n",
    "    'Malacca': (2.2, 102.25),\n",
    "    'Malaga': (36.719444, -4.42),\n",
    "    'Manchester': (53.479444, -2.245278),\n",
    "    'Manila': (14.5958, 120.9772),\n",
    "    'Mannheim': (49.488889, 8.469167),\n",
    "    'Mar del Plata': (-38.0, -57.55),\n",
    "    'Marseille': (43.2964, 5.37),\n",
    "    'Medellin': (6.230833, -75.590556),\n",
    "    'Melbourne': (-37.813611, 144.963056),\n",
    "    'Mexico City': (19.433333, -99.133333),\n",
    "    'Miami': (25.775278, -80.208889),\n",
    "    'Miami Beach': (25.813025, -80.134064),\n",
    "    'Milan': (45.466667, 9.183333),\n",
    "    'Monte Carlo': (43.739722, 7.427222),\n",
    "    'Monte Porzio': (43.683333, 13.05),\n",
    "    'Montevideo': (-34.883611, -56.181944),\n",
    "    'Montreux': (46.433333, 6.916667),\n",
    "    'Mosman': (-33.829075, 151.24409),\n",
    "    'Munich': (48.133333, 11.566667),\n",
    "    'Naples': (40.845, 14.258333),\n",
    "    'New York City': (40.7127, -74.0059),\n",
    "    'Newark': (40.72, -74.17),\n",
    "    'Nassau': (25.06, -77.345),\n",
    "    'Nicosia': (35.1725, 33.365),\n",
    "    'Nice': (43.7034, 7.2663),\n",
    "    'Nimes': (43.838, 4.361),\n",
    "    'Nottingham': (52.953333, -1.15),\n",
    "    'Nuremberg': (49.45, 11.083333),\n",
    "    'Oakland, CA': (37.804444, -122.270833),\n",
    "    'Okinawa': (26.479444, 127.927778),\n",
    "    'Oran': (35.696944, -0.633056),\n",
    "    'Padova': (45.416667, 11.866667),\n",
    "    'Palermo': (38.116667, 13.366667),\n",
    "    'Palm Springs': (33.830278, -116.545278),\n",
    "    'Palma, Majorca': (39.566667, 2.65),\n",
    "    'Paris': (48.8567, 2.3508),\n",
    "    'Perth': (-31.952222, 115.858889),\n",
    "    'Petion-Ville': (18.516667, -72.283333),\n",
    "    'Philadelphia': (39.952778, -75.163611),\n",
    "    'Piacenza': (45.047778, 9.700556),\n",
    "    'Piraeus': (37.943, 23.646944),\n",
    "    'Pittsburgh': (40.439722, -79.976389),\n",
    "    'Pontillac': (44.1383, 4.8097),\n",
    "    'Portland, OR': (45.52, -122.681944),\n",
    "    'Port-au-Prince': (18.533333, -72.333333),\n",
    "    'Port of Spain': (10.666667, -61.516667),\n",
    "    'Port Said': (31.25, 32.3),\n",
    "    'Quito': (-0.233333, -78.516667),\n",
    "    'Ravensberg': (52.092164, 8.570708),\n",
    "    'Recife': (-8.05, -34.9),\n",
    "    'Reno': (39.527222, -119.821944),\n",
    "    'Rio de Janeiro': (-22.908333, -43.196389),\n",
    "    'Rome': (41.9, 12.5),\n",
    "    'Rozay-en-Brie': (48.6833, 2.9667),\n",
    "    'San Antonio, Ibiza': (38.980833, 1.300556),\n",
    "    'San Diego': (32.715, -117.1625),\n",
    "    'San Francisco': (37.783333, -122.416667),\n",
    "    'San Jose': (37.333333, -121.9),\n",
    "    'San Juan': (18.406389, -66.063889),\n",
    "    'Santa Margherita': (44.333333, 9.216667),\n",
    "    'Santander': (43.462778, -3.805),\n",
    "    'Santiago': (-33.45, -70.666667),\n",
    "    'Santos': (-23.936944, -46.325),\n",
    "    'São Paulo': (-23.55, -46.633333),\n",
    "    'Sarajevo': (43.866667, 18.416667),\n",
    "    'Sayama': (35.852972, 139.412194),\n",
    "    'Schaffhausen': (47.7, 8.633333),\n",
    "    'Schwarzbach': (51.45, 13.933056),\n",
    "    'Seattle': (47.609722, -122.333056),\n",
    "    'Seoul': (37.566667, 126.966667),\n",
    "    'Sicily': (37.5, 14.0),\n",
    "    'Sidi Bel Abbès': (35.193889, -0.641389),\n",
    "    'Singapore': (1.283333, 103.833333),\n",
    "    'Somerville, NJ': (40.56975, -74.607682),\n",
    "    \"St. Catherine's\": (43.183333, -79.233333),\n",
    "    'St. Louis': (38.627222, -90.197778),\n",
    "    'Stockholm': (59.329444, 18.068611),\n",
    "    'Stockton, CA': (37.975556, -121.300833),\n",
    "    'Stuttgart': (48.783333, 9.183333),\n",
    "    'Surrey': (51.25, -0.416667),\n",
    "    'Sydney': (-33.865, 151.209444),\n",
    "    'Tachikawa': (35.694222, 139.419667),\n",
    "    'Tacoma, WA': (47.241389, -122.459444),\n",
    "    'Tangier': (35.766667, -5.8),\n",
    "    'The Hague': (52.083333, 4.316667),\n",
    "    'Tijuana': (32.525, -117.033333),\n",
    "    'Tivoli': (41.959722, 12.798056),\n",
    "    'Tokyo': (35.689722, 139.692222),\n",
    "    'Toronto': (43.741667, -79.373333),\n",
    "    'Trieste': (45.633333, 13.8),\n",
    "    'Turin': (45.079167, 7.676111),\n",
    "    'Utrecht': (52.083333, 5.116667),\n",
    "    'Valence': (44.9333, 4.8917),\n",
    "    'Valencia': (39.466667, -0.375),\n",
    "    'Vancouver': (49.25, -123.1),\n",
    "    'Varese': (45.816667, 8.833333),\n",
    "    'Venice': (45.4375, 12.335833),\n",
    "    'Ventimiglia': (43.790278, 7.608333),\n",
    "    'Veracruz': (19.433333, -96.383333),\n",
    "    'Vernaison': (45.648, 4.811),\n",
    "    'Verona': (45.433333, 10.983333),\n",
    "    'Vevey': (46.466667, 6.85),\n",
    "    'Vichy': (46.1278, 3.4267),\n",
    "    'Vienna': (48.2, 16.366667),\n",
    "    'Washington, D.C.': (38.904722, -77.016389),\n",
    "    'Wellington': (-41.288889, 174.777222),\n",
    "    'West Berlin': (52.5333, 13.1667),\n",
    "    'Yokohama': (35.444167, 139.638056),\n",
    "    'Zurich': (47.366667, 8.55),\n",
    "}"
   ]
  },
  {
   "cell_type": "markdown",
   "metadata": {},
   "source": [
    "### Grouping locations"
   ]
  },
  {
   "cell_type": "code",
   "execution_count": 23,
   "metadata": {},
   "outputs": [],
   "source": [
    "distances = set()\n",
    "cities = set(dunham_df.CITY1.unique()).union(dunham_df.CITY2.unique())\n",
    "cities.discard('')\n",
    "cities.discard('in transit')\n",
    "for i, city1 in enumerate(cities):\n",
    "    p1 = geolocations[city1]\n",
    "    for j, city2 in enumerate(cities):\n",
    "        if j > i: # and city1 != city2:\n",
    "            p2 = geolocations[city2]\n",
    "            dst = geodesic(p1, p2).km\n",
    "            distances.add((city1, city2, dst))"
   ]
  },
  {
   "cell_type": "code",
   "execution_count": 24,
   "metadata": {},
   "outputs": [
    {
     "data": {
      "text/plain": [
       "10"
      ]
     },
     "execution_count": 24,
     "metadata": {},
     "output_type": "execute_result"
    }
   ],
   "source": [
    "len(distances)"
   ]
  },
  {
   "cell_type": "code",
   "execution_count": 25,
   "metadata": {},
   "outputs": [
    {
     "data": {
      "text/plain": [
       "[('Stockton, CA', 'San Francisco', 100.45777277568092),\n",
       " ('San Diego', 'Stockton, CA', 694.1804200964181),\n",
       " ('San Diego', 'San Francisco', 737.8514518146319),\n",
       " ('San Diego', 'Mexico City', 2321.4317013516998),\n",
       " ('Stockton, CA', 'Mexico City', 2970.451620820282),\n",
       " ('Mexico City', 'San Francisco', 3036.6053907108394),\n",
       " ('New York City', 'Mexico City', 3357.6419513494357),\n",
       " ('New York City', 'San Diego', 3915.5011469250653),\n",
       " ('New York City', 'Stockton, CA', 4039.0194401772533),\n",
       " ('New York City', 'San Francisco', 4138.60863656365)]"
      ]
     },
     "execution_count": 25,
     "metadata": {},
     "output_type": "execute_result"
    }
   ],
   "source": [
    "sorted(distances, key=lambda x: x[2])[:10]"
   ]
  },
  {
   "cell_type": "code",
   "execution_count": 26,
   "metadata": {},
   "outputs": [],
   "source": [
    "THRESHOLD = 15"
   ]
  },
  {
   "cell_type": "code",
   "execution_count": 27,
   "metadata": {},
   "outputs": [],
   "source": [
    "grouped_cities_dct = {\n",
    "    'Petion-Ville': 'Port-au-Prince',\n",
    "    'Los Angeles': 'Los Angeles area',\n",
    "    'Hollywood': 'Los Angeles area',\n",
    "    'Beverly Hills': 'Los Angeles area',\n",
    "    'Fiesole': 'Florence',\n",
    "#     'Mosman': 'Sydney',\n",
    "}"
   ]
  },
  {
   "cell_type": "code",
   "execution_count": 28,
   "metadata": {},
   "outputs": [],
   "source": [
    "for k in grouped_cities_dct:\n",
    "    dunham_df.replace(k, grouped_cities_dct[k], inplace=True)"
   ]
  },
  {
   "cell_type": "code",
   "execution_count": 29,
   "metadata": {},
   "outputs": [
    {
     "data": {
      "text/plain": [
       "(10, 13)"
      ]
     },
     "execution_count": 29,
     "metadata": {},
     "output_type": "execute_result"
    }
   ],
   "source": [
    "dunham_df.shape"
   ]
  },
  {
   "cell_type": "markdown",
   "metadata": {},
   "source": [
    "## Saving data"
   ]
  },
  {
   "cell_type": "code",
   "execution_count": 30,
   "metadata": {},
   "outputs": [],
   "source": [
    "dunham_df.to_csv('data/out/dunham_1947-60.csv', index=False)"
   ]
  }
 ],
 "metadata": {
  "kernelspec": {
   "display_name": "Python 3",
   "language": "python",
   "name": "python3"
  },
  "language_info": {
   "codemirror_mode": {
    "name": "ipython",
    "version": 3
   },
   "file_extension": ".py",
   "mimetype": "text/x-python",
   "name": "python",
   "nbconvert_exporter": "python",
   "pygments_lexer": "ipython3",
   "version": "3.8.10"
  }
 },
 "nbformat": 4,
 "nbformat_minor": 2
}
